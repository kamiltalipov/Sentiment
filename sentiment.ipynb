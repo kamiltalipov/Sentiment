{
 "cells": [
  {
   "cell_type": "code",
   "execution_count": 4,
   "metadata": {
    "collapsed": true
   },
   "outputs": [],
   "source": [
    "import csv\n",
    "import numpy as np\n",
    "\n",
    "import scipy\n",
    "import scipy.sparse\n",
    "\n",
    "from sklearn.feature_extraction.text import TfidfVectorizer\n",
    "from sklearn.linear_model import LogisticRegression\n",
    "\n",
    "from sklearn.cross_validation import train_test_split\n",
    "\n",
    "from sklearn.metrics import accuracy_score"
   ]
  },
  {
   "cell_type": "code",
   "execution_count": 2,
   "metadata": {
    "collapsed": true
   },
   "outputs": [],
   "source": [
    "def get_data():\n",
    "    train_file = csv.reader(open('train.data'), delimiter='\\t')\n",
    "\n",
    "    train_set = [x[1:] for x in train_file]\n",
    "    test_file = csv.reader(open('test.data'), delimiter='\\t')\n",
    "\n",
    "    test_data = [x[1] for x in test_file]\n",
    "    test_data = [x.replace('\\\\n', ' ') for x in test_data[1:]]\n",
    "\n",
    "    train_data = [x[1].replace('\\\\n', ' ') for x in train_set[1:]]\n",
    "    train_target = np.array([int(x[0]) for x in train_set[1:]])\n",
    "\n",
    "    return train_data, train_target, test_data"
   ]
  },
  {
   "cell_type": "code",
   "execution_count": 5,
   "metadata": {
    "collapsed": true
   },
   "outputs": [],
   "source": [
    "train_data, train_target, test_data = get_data()\n",
    "\n",
    "x_train, x_validate, y_train, y_validate = train_test_split(train_data, train_target, test_size=0.5, random_state=42)"
   ]
  },
  {
   "cell_type": "code",
   "execution_count": 6,
   "metadata": {
    "collapsed": true
   },
   "outputs": [],
   "source": [
    "def tfidf_features(x_train, x_test):\n",
    "    d = TfidfVectorizer(ngram_range=(1, 3), smooth_idf=False)\n",
    "    train_features = d.fit_transform(x_train)\n",
    "    test_features = d.transform(x_test)\n",
    "\n",
    "    d = TfidfVectorizer(analyzer='char', ngram_range=(1, 4), smooth_idf=False)\n",
    "    train_chars = d.fit_transform(x_train)\n",
    "    test_chars = d.transform(x_test)\n",
    "\n",
    "    del d\n",
    "\n",
    "    train_length = np.array([len(text) for text in x_train])\n",
    "    test_length = np.array([len(text) for text in x_test])\n",
    "\n",
    "    train_length = scipy.sparse.csr_matrix(train_length).T\n",
    "    test_length = scipy.sparse.csr_matrix(test_length).T\n",
    "\n",
    "    train_features = scipy.sparse.hstack([train_features, train_chars, train_length])\n",
    "    test_features = scipy.sparse.hstack([test_features, test_chars, test_length])\n",
    "\n",
    "    return train_features, test_features"
   ]
  },
  {
   "cell_type": "code",
   "execution_count": 7,
   "metadata": {
    "collapsed": true
   },
   "outputs": [],
   "source": [
    "def get_classificator(x_train, y_train):\n",
    "    clf = LogisticRegression(penalty='l1', max_iter=500000, C=3)\n",
    "    clf.fit(x_train, y_train)\n",
    "\n",
    "    return clf\n",
    "\n",
    "def classify(x_train, y_train, x_test):\n",
    "    train_features, test_features = tfidf_features(x_train, x_test)\n",
    "\n",
    "    clf = get_classificator(train_features, y_train)\n",
    "\n",
    "    return clf.predict_proba(test_features)\n",
    "\n",
    "def get_ans(probs):\n",
    "    ans = probs.argmax(axis=1) + 1\n",
    "    return ans"
   ]
  },
  {
   "cell_type": "code",
   "execution_count": 8,
   "metadata": {
    "collapsed": false
   },
   "outputs": [
    {
     "name": "stdout",
     "output_type": "stream",
     "text": [
      "0.599098923389\n"
     ]
    }
   ],
   "source": [
    "probs = classify(x_train, y_train, x_validate)\n",
    "p_validate = get_ans(probs)\n",
    "\n",
    "print(accuracy_score(y_validate, p_validate))"
   ]
  },
  {
   "cell_type": "markdown",
   "metadata": {},
   "source": [
    "Итого получили точность чуть меньше 60%. Учитывая, что сравнивали точное поподание оценок, а не как-то более лояльно это хороший результат для анализа тональностей."
   ]
  }
 ],
 "metadata": {
  "kernelspec": {
   "display_name": "Python 2",
   "language": "python",
   "name": "python2"
  },
  "language_info": {
   "codemirror_mode": {
    "name": "ipython",
    "version": 2
   },
   "file_extension": ".py",
   "mimetype": "text/x-python",
   "name": "python",
   "nbconvert_exporter": "python",
   "pygments_lexer": "ipython2",
   "version": "2.7.6"
  }
 },
 "nbformat": 4,
 "nbformat_minor": 0
}
